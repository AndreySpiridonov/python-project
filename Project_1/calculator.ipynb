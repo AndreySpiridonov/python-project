{
 "cells": [
  {
   "cell_type": "code",
   "execution_count": 8,
   "metadata": {},
   "outputs": [
    {
     "name": "stdout",
     "output_type": "stream",
     "text": [
      "Requirement already satisfied: pandas in c:\\users\\андрей\\appdata\\local\\packages\\pythonsoftwarefoundation.python.3.11_qbz5n2kfra8p0\\localcache\\local-packages\\python311\\site-packages (2.0.3)\n",
      "Requirement already satisfied: matplotlib in c:\\users\\андрей\\appdata\\local\\packages\\pythonsoftwarefoundation.python.3.11_qbz5n2kfra8p0\\localcache\\local-packages\\python311\\site-packages (3.7.2)\n",
      "Requirement already satisfied: seaborn in c:\\users\\андрей\\appdata\\local\\packages\\pythonsoftwarefoundation.python.3.11_qbz5n2kfra8p0\\localcache\\local-packages\\python311\\site-packages (0.12.2)\n",
      "Requirement already satisfied: numpy in c:\\users\\андрей\\appdata\\local\\packages\\pythonsoftwarefoundation.python.3.11_qbz5n2kfra8p0\\localcache\\local-packages\\python311\\site-packages (1.25.2)\n",
      "Requirement already satisfied: python-dateutil>=2.8.2 in c:\\users\\андрей\\appdata\\local\\packages\\pythonsoftwarefoundation.python.3.11_qbz5n2kfra8p0\\localcache\\local-packages\\python311\\site-packages (from pandas) (2.8.2)\n",
      "Requirement already satisfied: pytz>=2020.1 in c:\\users\\андрей\\appdata\\local\\packages\\pythonsoftwarefoundation.python.3.11_qbz5n2kfra8p0\\localcache\\local-packages\\python311\\site-packages (from pandas) (2023.3)\n",
      "Requirement already satisfied: tzdata>=2022.1 in c:\\users\\андрей\\appdata\\local\\packages\\pythonsoftwarefoundation.python.3.11_qbz5n2kfra8p0\\localcache\\local-packages\\python311\\site-packages (from pandas) (2023.3)\n",
      "Requirement already satisfied: contourpy>=1.0.1 in c:\\users\\андрей\\appdata\\local\\packages\\pythonsoftwarefoundation.python.3.11_qbz5n2kfra8p0\\localcache\\local-packages\\python311\\site-packages (from matplotlib) (1.1.0)\n",
      "Requirement already satisfied: cycler>=0.10 in c:\\users\\андрей\\appdata\\local\\packages\\pythonsoftwarefoundation.python.3.11_qbz5n2kfra8p0\\localcache\\local-packages\\python311\\site-packages (from matplotlib) (0.11.0)\n",
      "Requirement already satisfied: fonttools>=4.22.0 in c:\\users\\андрей\\appdata\\local\\packages\\pythonsoftwarefoundation.python.3.11_qbz5n2kfra8p0\\localcache\\local-packages\\python311\\site-packages (from matplotlib) (4.42.0)\n",
      "Requirement already satisfied: kiwisolver>=1.0.1 in c:\\users\\андрей\\appdata\\local\\packages\\pythonsoftwarefoundation.python.3.11_qbz5n2kfra8p0\\localcache\\local-packages\\python311\\site-packages (from matplotlib) (1.4.4)\n",
      "Requirement already satisfied: packaging>=20.0 in c:\\users\\андрей\\appdata\\local\\packages\\pythonsoftwarefoundation.python.3.11_qbz5n2kfra8p0\\localcache\\local-packages\\python311\\site-packages (from matplotlib) (23.1)\n",
      "Requirement already satisfied: pillow>=6.2.0 in c:\\users\\андрей\\appdata\\local\\packages\\pythonsoftwarefoundation.python.3.11_qbz5n2kfra8p0\\localcache\\local-packages\\python311\\site-packages (from matplotlib) (10.0.0)\n",
      "Requirement already satisfied: pyparsing<3.1,>=2.3.1 in c:\\users\\андрей\\appdata\\local\\packages\\pythonsoftwarefoundation.python.3.11_qbz5n2kfra8p0\\localcache\\local-packages\\python311\\site-packages (from matplotlib) (3.0.9)\n",
      "Requirement already satisfied: six>=1.5 in c:\\users\\андрей\\appdata\\local\\packages\\pythonsoftwarefoundation.python.3.11_qbz5n2kfra8p0\\localcache\\local-packages\\python311\\site-packages (from python-dateutil>=2.8.2->pandas) (1.16.0)\n",
      "Note: you may need to restart the kernel to use updated packages.\n"
     ]
    },
    {
     "name": "stderr",
     "output_type": "stream",
     "text": [
      "\n",
      "[notice] A new release of pip is available: 23.1.2 -> 23.2.1\n",
      "[notice] To update, run: C:\\Users\\Андрей\\AppData\\Local\\Microsoft\\WindowsApps\\PythonSoftwareFoundation.Python.3.11_qbz5n2kfra8p0\\python.exe -m pip install --upgrade pip\n"
     ]
    }
   ],
   "source": [
    "%pip install pandas matplotlib seaborn numpy "
   ]
  },
  {
   "cell_type": "code",
   "execution_count": null,
   "metadata": {},
   "outputs": [],
   "source": []
  },
  {
   "cell_type": "code",
   "execution_count": 3,
   "metadata": {},
   "outputs": [],
   "source": [
    "import math "
   ]
  },
  {
   "cell_type": "code",
   "execution_count": 10,
   "metadata": {},
   "outputs": [
    {
     "name": "stdout",
     "output_type": "stream",
     "text": [
      "hello\n",
      "1.1\n",
      "1\n",
      "1\n"
     ]
    }
   ],
   "source": [
    "print('hello')\n",
    "# инициализируем переминную int\n",
    "numberint = 1\n",
    "# инициализируем переминную float\n",
    "numberfloat = 1.1\n",
    "print(numberfloat)\n",
    "# переминную  float -> int  \n",
    "print(int(numberfloat))\n",
    "float()\n",
    "numberfloat=int(numberfloat)\n",
    "print(numberfloat)\n",
    "\n",
    "#создай переменные каждого типа после написать циклы (до момента пока число не больше 100) прибавления к переменным каждого типа переменную того же типа (int+int,float+float,longint+longint ... ) кроме bool\n"
   ]
  },
  {
   "cell_type": "code",
   "execution_count": 11,
   "metadata": {},
   "outputs": [
    {
     "name": "stdout",
     "output_type": "stream",
     "text": [
      "252.0000001 252\n"
     ]
    }
   ],
   "source": [
    "#операторы\n",
    "numberfloat=0.0000001\n",
    "count=0\n",
    "#циклы for.\n",
    "for i in range (126):\n",
    "    numberfloat=numberfloat+1\n",
    "    numberfloat+=1\n",
    "for i in range (1,127):\n",
    "    count+=2\n",
    "print(numberfloat,count)\n"
   ]
  },
  {
   "cell_type": "code",
   "execution_count": 12,
   "metadata": {},
   "outputs": [
    {
     "name": "stdout",
     "output_type": "stream",
     "text": [
      "265 148\n",
      "258.01 128\n",
      "500004 151\n"
     ]
    }
   ],
   "source": [
    "#операторы int\n",
    "numberint=5\n",
    "count=0\n",
    "#циклы for.\n",
    "for i in range (130):\n",
    "    numberint=numberint+1\n",
    "    numberint+=1\n",
    "for i in range (1,149):\n",
    "    count+=1\n",
    "print(numberint,count)\n",
    "#операторы float\n",
    "numberfloat=0.01\n",
    "count=0\n",
    "#циклы for.\n",
    "for i in range (129):\n",
    "    numberfloat=numberfloat+1\n",
    "    numberfloat+=1\n",
    "for i in range (1,129):\n",
    "    count+=1\n",
    "print(numberfloat,count)\n",
    "#операторы longint\n",
    "numberlongint=500000\n",
    "count=3\n",
    "#циклы for.\n",
    "for i in range (2):\n",
    "    numberlongint=numberlongint+1\n",
    "    numberlongint+=1\n",
    "for i in range (1,149):\n",
    "    count+=1\n",
    "print(numberlongint,count)\n"
   ]
  },
  {
   "cell_type": "code",
   "execution_count": 13,
   "metadata": {},
   "outputs": [
    {
     "name": "stdout",
     "output_type": "stream",
     "text": [
      "0.9999999403953552\n",
      "0.9999999403953552\n"
     ]
    }
   ],
   "source": [
    "#циклы while\n",
    "hour=24\n",
    "time=0\n",
    "while  hour > 0 :\n",
    "    time+=1\n",
    "    time=time/2\n",
    "    hour-=1\n",
    "print(time)\n",
    "#пока hour не равно 0\n",
    "while hour != 0:\n",
    "    time+=1\n",
    "    time=time/2\n",
    "    hour-=1\n",
    "print(time)"
   ]
  },
  {
   "cell_type": "code",
   "execution_count": 14,
   "metadata": {},
   "outputs": [
    {
     "name": "stdout",
     "output_type": "stream",
     "text": [
      "1\n",
      "2\n"
     ]
    }
   ],
   "source": [
    "#условия if else ifelse\n",
    "time = 1\n",
    "if time == 1:\n",
    "    print('1')\n",
    "else: time == 2 \n",
    "print('2')\n"
   ]
  },
  {
   "cell_type": "code",
   "execution_count": 15,
   "metadata": {},
   "outputs": [
    {
     "name": "stdout",
     "output_type": "stream",
     "text": [
      "3\n",
      "1.2\n",
      "10000000000\n"
     ]
    },
    {
     "data": {
      "text/plain": [
       "'пяткодер'"
      ]
     },
     "execution_count": 15,
     "metadata": {},
     "output_type": "execute_result"
    }
   ],
   "source": [
    "# инициализируем переменную int\n",
    "numberint =3\n",
    "print(numberint)\n",
    "# инициализируем переменную float\n",
    "numberfloat = 1.2\n",
    "print (numberfloat)\n",
    "# инициализируем переменную longint\n",
    "numberlongint=10000000000\n",
    "print(numberlongint)\n",
    "first = 'пятко'\n",
    "second = 'дер'\n",
    "first + second"
   ]
  },
  {
   "cell_type": "code",
   "execution_count": 4,
   "metadata": {},
   "outputs": [
    {
     "name": "stdout",
     "output_type": "stream",
     "text": [
      "20\n",
      "33.333333333333336\n"
     ]
    }
   ],
   "source": [
    "# Вычисляем процент прошедшего часа\n",
    "assignment = int(input())\n",
    "print(assignment)\n",
    "j = (assignment * 100)/60\n",
    "print (j)"
   ]
  },
  {
   "cell_type": "code",
   "execution_count": 5,
   "metadata": {},
   "outputs": [
    {
     "name": "stdout",
     "output_type": "stream",
     "text": [
      "объем:  104.71975511965977\n"
     ]
    }
   ],
   "source": [
    "# Объем сферы - v, радус- r\n",
    "r=5\n",
    "v=4/3*math.pi*r*r\n",
    "print ('объем: ',v)"
   ]
  },
  {
   "cell_type": "code",
   "execution_count": 10,
   "metadata": {},
   "outputs": [
    {
     "name": "stdout",
     "output_type": "stream",
     "text": [
      "5 6 \n",
      " Сумма 11 \n",
      " Разность -1 \n",
      " Произведение 30 \n",
      " Деление 0.8333333333333334 \n",
      " Возведение в степень 15625 \n",
      " Квадратный корень 2.23606797749979\n"
     ]
    }
   ],
   "source": [
    "# калькулятор\n",
    "n=int(input(\"введите 1 число\"))\n",
    "m=int(input(\"введите 2 число\"))\n",
    "\n",
    "suma=n+m \n",
    "raznoct=n-m\n",
    "proizv=n*m\n",
    "delen=n/m\n",
    "vozvstep=n**m\n",
    "qoren2=math.sqrt(n)\n",
    "print(n,m,\"\\n Сумма\", suma, \"\\n Разность\",raznoct,\"\\n Произведение\", proizv,\"\\n Деление\",delen, \"\\n Возведение в степень\",vozvstep, \"\\n Квадратный корень\",qoren2)"
   ]
  },
  {
   "cell_type": "code",
   "execution_count": 31,
   "metadata": {},
   "outputs": [],
   "source": [
    "class calculator:\n",
    "    def summa (number_one,number_two):\n",
    "        print (\"\\n Сумма\",number_one+number_two)\n",
    "        return number_one+number_two\n",
    "    def raznoct (number_one , number_two):\n",
    "        print (\"\\n Разность\",number_one-number_two)\n",
    "        return number_one-number_two\n",
    "    def proizv (number_one , number_two):\n",
    "        print (\"\\n Произведение\",number_one , number_two)\n",
    "        return number_one*number_two\n",
    "    def delen (number_one, number_two):\n",
    "        print (\"\\n Деление\",number_one/number_two)\n",
    "        return number_one/number_two\n",
    "    def vozvstep (number_one, number_two):\n",
    "        print (\"\\n Возведение в степень\",number_one**number_two)\n",
    "        return number_one**number_two\n",
    "    def qoren2 (number_one):\n",
    "        print (\"\\n Извлечение квадратного корня\",math.sqrt(number_one))\n",
    "        return math.sqrt(number_one)\n"
   ]
  },
  {
   "cell_type": "code",
   "execution_count": 3,
   "metadata": {},
   "outputs": [],
   "source": [
    "#задача создать функцию для вычисления площади трапеции , прямоугольника, круга . Задать им класс площади . "
   ]
  },
  {
   "cell_type": "code",
   "execution_count": 14,
   "metadata": {},
   "outputs": [
    {
     "name": "stdout",
     "output_type": "stream",
     "text": [
      "6 3 \n",
      " Площадь прямоугольника 18\n"
     ]
    }
   ],
   "source": [
    "# Вычислить площадь прямоугольника\n",
    "x=int(input(\"введите длину прямоугольника\"))\n",
    "y=int(input(\"введите ширину прямоугольника\"))\n",
    "proizv=x*y\n",
    "print (x, y, \"\\n Площадь прямоугольника\", proizv)"
   ]
  },
  {
   "cell_type": "code",
   "execution_count": 41,
   "metadata": {},
   "outputs": [],
   "source": [
    "# Вычислить площадь круга\n",
    "import math\n",
    "def ploshad_kruga():\n",
    "    r=int(input(\"введите радиус\"))\n",
    "    S=math.pi*(r**2)\n",
    "    print (\"\\n Площадь круга радиусом\",r,\"равна\",S)"
   ]
  },
  {
   "cell_type": "code",
   "execution_count": 42,
   "metadata": {},
   "outputs": [
    {
     "name": "stdout",
     "output_type": "stream",
     "text": [
      "\n",
      " Площадь круга радиусом 5 равна 78.53981633974483\n"
     ]
    }
   ],
   "source": [
    "ploshad_kruga()"
   ]
  },
  {
   "cell_type": "code",
   "execution_count": 48,
   "metadata": {},
   "outputs": [],
   "source": [
    "# Вычислить площадь трапеции\n",
    "# дописать условия \n",
    "def plosh_trop():\n",
    "    x=int(input(\"введите большее основания трапеции\"))\n",
    "    y=int(input(\"введите меньшее основание трапеции\"))\n",
    "    h=int(input(\"введите высоту трапеции\"))\n",
    "    pl_trop=(x+y)*h/2\n",
    "    print (\"\\n большее основания трапеции\", x, \"\\n меньшее основания трапеции\", y, \"\\n высоту трапеции\", h, \"\\n Площадь трапеции\", pl_trop)"
   ]
  },
  {
   "cell_type": "code",
   "execution_count": 50,
   "metadata": {},
   "outputs": [
    {
     "name": "stdout",
     "output_type": "stream",
     "text": [
      "\n",
      " большее основания трапеции 1 \n",
      " меньшее основания трапеции 10 \n",
      " высоту трапеции 5 \n",
      " Площадь трапеции 27.5\n"
     ]
    }
   ],
   "source": [
    "plosh_trop()"
   ]
  },
  {
   "cell_type": "code",
   "execution_count": null,
   "metadata": {},
   "outputs": [
    {
     "data": {
      "text/plain": [
       "'0b1001'"
      ]
     },
     "execution_count": 52,
     "metadata": {},
     "output_type": "execute_result"
    }
   ],
   "source": [
    "max(1,2)\n",
    "min(1,2)\n",
    "abs(1)\n",
    "bin(9)"
   ]
  },
  {
   "cell_type": "code",
   "execution_count": 7,
   "metadata": {},
   "outputs": [
    {
     "name": "stdout",
     "output_type": "stream",
     "text": [
      "\n",
      " разность 4\n"
     ]
    }
   ],
   "source": [
    "n=int(input(\"введите 1 число\"))\n",
    "m=int(input(\"введите 2 число\"))\n",
    "raznoct=(n-m)\n",
    "print (\"\\n разность\", raznoct) "
   ]
  },
  {
   "cell_type": "code",
   "execution_count": 30,
   "metadata": {},
   "outputs": [
    {
     "name": "stdout",
     "output_type": "stream",
     "text": [
      "\n",
      " Разность 3\n",
      "\n",
      "Извлечение квадратного корня 2.23606797749979\n",
      "\n",
      " Сумма 7\n"
     ]
    }
   ],
   "source": [
    "x1=int(input(\"введите 1 число\"))\n",
    "x2=int(input(\"введите 2 число\"))\n",
    "c=calculator.raznoct(x1,x2)\n",
    "l=calculator.qoren2(x1)\n",
    "n=calculator.summa(x1,x2)\n"
   ]
  },
  {
   "cell_type": "code",
   "execution_count": 10,
   "metadata": {},
   "outputs": [
    {
     "name": "stdout",
     "output_type": "stream",
     "text": [
      "Длина окружности= 31.41592653589793\n",
      "Площадь= 78.53981633974483\n"
     ]
    }
   ],
   "source": [
    "import math\n",
    "radius=int(input(\"Ввидите радиус\"))\n",
    "if radius >=0:\n",
    "    print(\"Длина окружности=\",2*radius*math.pi)\n",
    "    print(\"Площадь=\",radius**2*math.pi)\n",
    "else:\n",
    "    print(\"Ввидите положительное число\")"
   ]
  },
  {
   "cell_type": "code",
   "execution_count": 7,
   "metadata": {},
   "outputs": [],
   "source": [
    "def repeat_lyrics():\n",
    "    print_lyrics()\n",
    "    print_lyrics()\n",
    "\n",
    "def print_lyrics():\n",
    "    print(\"я даволен.\")\n",
    "    print(\"я очень даволен\")"
   ]
  },
  {
   "cell_type": "code",
   "execution_count": 8,
   "metadata": {},
   "outputs": [
    {
     "name": "stdout",
     "output_type": "stream",
     "text": [
      "я даволен.\n",
      "я очень даволен\n"
     ]
    }
   ],
   "source": [
    "print_lyrics()"
   ]
  },
  {
   "cell_type": "code",
   "execution_count": 9,
   "metadata": {},
   "outputs": [
    {
     "name": "stdout",
     "output_type": "stream",
     "text": [
      "я даволен.\n",
      "я очень даволен\n",
      "я даволен.\n",
      "я очень даволен\n"
     ]
    }
   ],
   "source": [
    "repeat_lyrics()"
   ]
  },
  {
   "cell_type": "code",
   "execution_count": 51,
   "metadata": {},
   "outputs": [],
   "source": [
    "def print_twice(michael):\n",
    "    michael=\"Эрик,попчелы\""
   ]
  },
  {
   "cell_type": "code",
   "execution_count": 52,
   "metadata": {},
   "outputs": [
    {
     "ename": "NameError",
     "evalue": "name 'michael' is not defined",
     "output_type": "error",
     "traceback": [
      "\u001b[1;31m---------------------------------------------------------------------------\u001b[0m",
      "\u001b[1;31mNameError\u001b[0m                                 Traceback (most recent call last)",
      "Cell \u001b[1;32mIn[52], line 1\u001b[0m\n\u001b[1;32m----> 1\u001b[0m print_twice(michael)\n",
      "\u001b[1;31mNameError\u001b[0m: name 'michael' is not defined"
     ]
    }
   ],
   "source": [
    "print_twice(michael)"
   ]
  },
  {
   "cell_type": "code",
   "execution_count": 75,
   "metadata": {},
   "outputs": [],
   "source": [
    "def print_twice(x):\n",
    "    for i in x: print(i)\n",
    "    for i in x: print(i)"
   ]
  },
  {
   "cell_type": "code",
   "execution_count": 79,
   "metadata": {},
   "outputs": [
    {
     "name": "stdout",
     "output_type": "stream",
     "text": [
      "1\n",
      "2\n",
      "3\n",
      "1\n",
      "2\n",
      "3\n",
      "1\n",
      "2\n",
      "3\n",
      "1\n",
      "2\n",
      "3\n"
     ]
    }
   ],
   "source": [
    "print_twice([1,2,3]*2)"
   ]
  },
  {
   "cell_type": "code",
   "execution_count": 88,
   "metadata": {},
   "outputs": [
    {
     "name": "stdout",
     "output_type": "stream",
     "text": [
      "list is not an iterator\n",
      "tuple is not an iterator\n",
      "dict is not an iterator\n",
      "range is not an iterator\n",
      "generator is an iterator\n",
      "list_iterator is an iterator\n",
      "zip is an iterator\n",
      "filter is an iterator\n",
      "map is an iterator\n"
     ]
    }
   ],
   "source": [
    "def is_iterator(x):\n",
    "    return iter(x) is x\n",
    "\n",
    "for obj in [\n",
    "    # not iterators\n",
    "    [1, 2, 3],\n",
    "    (1, 2, 3),\n",
    "    {1: 2, 3: 4},\n",
    "    range(3),\n",
    "    # iterators\n",
    "    (x for x in range(3)),\n",
    "    iter([1, 2, 3]),\n",
    "    zip([1, 2], [3, 4]),\n",
    "    filter(lambda x: x % 2 == 0, [1, 2, 3]),\n",
    "    map(lambda x: 2 * x, [1, 2, 3]),]:\n",
    "    name = type(obj).__name__\n",
    "    if is_iterator(obj):\n",
    "        print(name, 'is an iterator')\n",
    "    else:\n",
    "        print(name, 'is not an iterator')"
   ]
  }
 ],
 "metadata": {
  "kernelspec": {
   "display_name": "Python 3",
   "language": "python",
   "name": "python3"
  },
  "language_info": {
   "codemirror_mode": {
    "name": "ipython",
    "version": 3
   },
   "file_extension": ".py",
   "mimetype": "text/x-python",
   "name": "python",
   "nbconvert_exporter": "python",
   "pygments_lexer": "ipython3",
   "version": "3.11.6"
  },
  "orig_nbformat": 4
 },
 "nbformat": 4,
 "nbformat_minor": 2
}
