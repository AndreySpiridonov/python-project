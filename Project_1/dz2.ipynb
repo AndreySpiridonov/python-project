{
 "cells": [
  {
   "cell_type": "code",
   "execution_count": 26,
   "metadata": {},
   "outputs": [],
   "source": [
    "def lista(n):\n",
    "    list_a=list(range(0, n, 2))\n",
    "    list_b=list(range(0, n, 10))\n",
    "    list_c=list(range(0, n, 5))\n",
    "    new_list=[0]*n\n",
    "    if len(list_a)==len(list_b)==len(list_c):\n",
    "        print(\"длина равна\")\n",
    "    for i in range(len(list_a)):\n",
    "        for j in range (len(list_b)):\n",
    "            if list_a[i]==list_b[j]:\n",
    "                for k in range(len(list_c)):\n",
    "                    if list_c[k]==list_b[j]:\n",
    "                        new_list[k]=list_c[k]\n",
    "    return new_list"
   ]
  },
  {
   "cell_type": "code",
   "execution_count": 27,
   "metadata": {},
   "outputs": [
    {
     "name": "stdout",
     "output_type": "stream",
     "text": [
      "[0, 0, 10, 0, 20, 0, 30, 0, 40, 0, 50, 0, 60, 0, 70, 0, 80, 0, 90, 0, 100, 0, 110, 0, 120, 0, 130, 0, 140, 0, 150, 0, 160, 0, 170, 0, 180, 0, 190, 0, 200, 0, 210, 0, 220, 0, 230, 0, 240, 0, 250, 0, 260, 0, 270, 0, 280, 0, 290, 0, 300, 0, 310, 0, 320, 0, 330, 0, 340, 0, 350, 0, 360, 0, 370, 0, 380, 0, 390, 0, 400, 0, 410, 0, 420, 0, 430, 0, 440, 0, 450, 0, 460, 0, 470, 0, 480, 0, 490, 0, 500, 0, 510, 0, 520, 0, 530, 0, 540, 0, 550, 0, 560, 0, 570, 0, 580, 0, 590, 0, 600, 0, 610, 0, 620, 0, 630, 0, 640, 0, 650, 0, 660, 0, 670, 0, 680, 0, 690, 0, 700, 0, 710, 0, 720, 0, 730, 0, 740, 0, 750, 0, 760, 0, 770, 0, 780, 0, 790, 0, 800, 0, 810, 0, 820, 0, 830, 0, 840, 0, 850, 0, 860, 0, 870, 0, 880, 0, 890, 0, 900, 0, 910, 0, 920, 0, 930, 0, 940, 0, 950, 0, 960, 0, 970, 0, 980, 0, 990, 0, 0, 0, 0, 0, 0, 0, 0, 0, 0, 0, 0, 0, 0, 0, 0, 0, 0, 0, 0, 0, 0, 0, 0, 0, 0, 0, 0, 0, 0, 0, 0, 0, 0, 0, 0, 0, 0, 0, 0, 0, 0, 0, 0, 0, 0, 0, 0, 0, 0, 0, 0, 0, 0, 0, 0, 0, 0, 0, 0, 0, 0, 0, 0, 0, 0, 0, 0, 0, 0, 0, 0, 0, 0, 0, 0, 0, 0, 0, 0, 0, 0, 0, 0, 0, 0, 0, 0, 0, 0, 0, 0, 0, 0, 0, 0, 0, 0, 0, 0, 0, 0, 0, 0, 0, 0, 0, 0, 0, 0, 0, 0, 0, 0, 0, 0, 0, 0, 0, 0, 0, 0, 0, 0, 0, 0, 0, 0, 0, 0, 0, 0, 0, 0, 0, 0, 0, 0, 0, 0, 0, 0, 0, 0, 0, 0, 0, 0, 0, 0, 0, 0, 0, 0, 0, 0, 0, 0, 0, 0, 0, 0, 0, 0, 0, 0, 0, 0, 0, 0, 0, 0, 0, 0, 0, 0, 0, 0, 0, 0, 0, 0, 0, 0, 0, 0, 0, 0, 0, 0, 0, 0, 0, 0, 0, 0, 0, 0, 0, 0, 0, 0, 0, 0, 0, 0, 0, 0, 0, 0, 0, 0, 0, 0, 0, 0, 0, 0, 0, 0, 0, 0, 0, 0, 0, 0, 0, 0, 0, 0, 0, 0, 0, 0, 0, 0, 0, 0, 0, 0, 0, 0, 0, 0, 0, 0, 0, 0, 0, 0, 0, 0, 0, 0, 0, 0, 0, 0, 0, 0, 0, 0, 0, 0, 0, 0, 0, 0, 0, 0, 0, 0, 0, 0, 0, 0, 0, 0, 0, 0, 0, 0, 0, 0, 0, 0, 0, 0, 0, 0, 0, 0, 0, 0, 0, 0, 0, 0, 0, 0, 0, 0, 0, 0, 0, 0, 0, 0, 0, 0, 0, 0, 0, 0, 0, 0, 0, 0, 0, 0, 0, 0, 0, 0, 0, 0, 0, 0, 0, 0, 0, 0, 0, 0, 0, 0, 0, 0, 0, 0, 0, 0, 0, 0, 0, 0, 0, 0, 0, 0, 0, 0, 0, 0, 0, 0, 0, 0, 0, 0, 0, 0, 0, 0, 0, 0, 0, 0, 0, 0, 0, 0, 0, 0, 0, 0, 0, 0, 0, 0, 0, 0, 0, 0, 0, 0, 0, 0, 0, 0, 0, 0, 0, 0, 0, 0, 0, 0, 0, 0, 0, 0, 0, 0, 0, 0, 0, 0, 0, 0, 0, 0, 0, 0, 0, 0, 0, 0, 0, 0, 0, 0, 0, 0, 0, 0, 0, 0, 0, 0, 0, 0, 0, 0, 0, 0, 0, 0, 0, 0, 0, 0, 0, 0, 0, 0, 0, 0, 0, 0, 0, 0, 0, 0, 0, 0, 0, 0, 0, 0, 0, 0, 0, 0, 0, 0, 0, 0, 0, 0, 0, 0, 0, 0, 0, 0, 0, 0, 0, 0, 0, 0, 0, 0, 0, 0, 0, 0, 0, 0, 0, 0, 0, 0, 0, 0, 0, 0, 0, 0, 0, 0, 0, 0, 0, 0, 0, 0, 0, 0, 0, 0, 0, 0, 0, 0, 0, 0, 0, 0, 0, 0, 0, 0, 0, 0, 0, 0, 0, 0, 0, 0, 0, 0, 0, 0, 0, 0, 0, 0, 0, 0, 0, 0, 0, 0, 0, 0, 0, 0, 0, 0, 0, 0, 0, 0, 0, 0, 0, 0, 0, 0, 0, 0, 0, 0, 0, 0, 0, 0, 0, 0, 0, 0, 0, 0, 0, 0, 0, 0, 0, 0, 0, 0, 0, 0, 0, 0, 0, 0, 0, 0, 0, 0, 0, 0, 0, 0, 0, 0, 0, 0, 0, 0, 0, 0, 0, 0, 0, 0, 0, 0, 0, 0, 0, 0, 0, 0, 0, 0, 0, 0, 0, 0, 0, 0, 0, 0, 0, 0, 0, 0, 0, 0, 0, 0, 0, 0, 0, 0, 0, 0, 0, 0, 0, 0, 0, 0, 0, 0, 0, 0, 0, 0, 0, 0, 0, 0, 0, 0, 0, 0, 0, 0, 0, 0, 0, 0, 0, 0, 0, 0, 0, 0, 0, 0, 0, 0, 0, 0, 0, 0, 0, 0, 0, 0, 0, 0, 0, 0, 0, 0, 0, 0, 0, 0, 0, 0, 0, 0, 0, 0, 0, 0, 0, 0, 0, 0, 0, 0, 0, 0, 0, 0, 0, 0, 0, 0, 0, 0, 0, 0, 0, 0, 0, 0, 0, 0, 0, 0, 0, 0, 0, 0, 0, 0, 0, 0, 0, 0, 0, 0, 0, 0, 0, 0, 0, 0, 0, 0, 0, 0, 0, 0, 0, 0, 0, 0, 0, 0, 0, 0, 0, 0, 0, 0, 0, 0, 0, 0, 0, 0, 0, 0, 0, 0, 0, 0, 0, 0, 0, 0, 0, 0, 0, 0, 0, 0, 0, 0, 0, 0, 0, 0, 0, 0, 0, 0, 0, 0, 0]\n"
     ]
    }
   ],
   "source": [
    "new=lista(1000)\n",
    "print(new)\n",
    "#убрать нули"
   ]
  },
  {
   "cell_type": "code",
   "execution_count": null,
   "metadata": {},
   "outputs": [],
   "source": [
    "#создать класс который называется чертежи с параметрами наименование , трудоемкость , расцеховка \n",
    "#используя __init__ и lambda  отсортировать по трудоемкости и вывести на экран"
   ]
  },
  {
   "cell_type": "code",
   "execution_count": null,
   "metadata": {},
   "outputs": [],
   "source": [
    "#создать класс который называется котел с параметрами вывод пара и генерация энергии \n",
    "#создать 6 разных котлов\n",
    "#отсортировать их по генерации энергии и вывести на экран velosity, acceleration, "
   ]
  },
  {
   "cell_type": "code",
   "execution_count": 56,
   "metadata": {},
   "outputs": [],
   "source": [
    "# объект машина с координатами перемещения в плоскости x, y\n",
    "class car:\n",
    "    def __init__(self, mark, x, y,t,time_now , velosity, velosity_x, velosity_y):\n",
    "        self.mark = mark #марка\n",
    "        self.x =x # координата по Х\n",
    "        self.y =y # координата по Y\n",
    "        self.t =t # время\n",
    "        self.time_now =time_now # время now\n",
    "        self.velosity=velosity # скорость\n",
    "        self.velosity_x=velosity_x # скорость X\n",
    "        self.velosity_y=velosity_y # скорость Y\n",
    "\n",
    "    def calculation_r(velosity_x,velosity_y,acc_x,acc_y, rd3_x,rd3_y,x0,t,y0):\n",
    "        vel=(velosity_x**(2)+velosity_y**(2))**(0,5)\n",
    "        acc=((acc_x**(2)+acc_y**(2))**(0,5))\n",
    "        rd3=((rd3_x**(2)+rd3_y**(2))**(0,5))\n",
    "        c0=((x0**(2)+y0**(2))**(0,5))\n",
    "        r=vel+(acc*t)/2+(rd3*t*t)/6+c0\n",
    "        return r\n",
    "    def calculation_xy(velosity_x,velosity_y,acc_x,acc_y, rd3_x,rd3_y,x0,t,y0):\n",
    "        x=velosity_x+(acc_x*t)/2+(rd3_x*t**2)/6+x0\n",
    "        y=velosity_y+(acc_y*t)/2+(rd3_y*t**2)/6+y0\n",
    "        return x,y\n",
    "\n",
    "\n",
    "    def __str__(self): \n",
    "    \n",
    "        return  \"name:% s obj:% s col:% s цех:% s  work:% s\" % (self.name, self.mass, self.coord_x, self.ceh, self.work) \n",
    "    \n",
    "    "
   ]
  },
  {
   "cell_type": "code",
   "execution_count": null,
   "metadata": {},
   "outputs": [
    {
     "name": "stdout",
     "output_type": "stream",
     "text": [
      "[99]\n"
     ]
    }
   ],
   "source": [
    "car.time_now=100\n",
    "car.velosity_x=1 # скорость X\n",
    "car.velosity_y=1 # скорость Y\n",
    "car.x=list(range(0,car.time_now ,car.velosity_x))\n",
    "car.y=list(range(0,car.time_now,car.velosity_y))\n",
    "car.t=list(range(0,car.time_now,1))\n",
    "if len(car.x)>len(car.y):\n",
    "    for i in range (len (car.x)):\n",
    "        if i== len (car.y):\n",
    "         del car.x[i:]\n",
    "else :\n",
    "    for i in range (len (car.y)):\n",
    "            if i== len (car.x):\n",
    "                del car.y[i:]\n",
    "                print (car.y)\n",
    "for i in range (len (car.t)):\n",
    "            if i== len (car.y):\n",
    "                del car.t[i:]\n",
    "                print (car.t)\n",
    "\n",
    "print (car.t[-1:])\n"
   ]
  },
  {
   "cell_type": "code",
   "execution_count": 58,
   "metadata": {},
   "outputs": [
    {
     "name": "stdout",
     "output_type": "stream",
     "text": [
      "[34, 17, 65, 96, 89, 33, 74, 53, 27, 79, 16, 75, 63, 49, 48, 22, 26, 26, 61, 94, 54, 93, 55, 26, 46, 43, 54, 31, 64, 96, 51, 68, 19, 62, 42, 2, 27, 63, 32, 94, 73, 100, 89, 45, 4, 74, 3, 3, 80, 11, 1, 87, 50, 98, 34, 22, 60, 4, 43, 85, 27, 83, 28, 73, 49, 10, 32, 21, 69, 46, 92, 13, 45, 42, 33, 77, 98, 78, 85, 33, 30, 40, 92, 89, 72, 1, 65, 89, 31, 97, 63, 94, 66, 83, 43, 45, 4, 97, 91, 44]\n",
      "[42, 75, 7, 42, 66, 30, 91, 42, 55, 82, 34, 16, 54, 88, 52, 10, 79, 95, 8, 60, 78, 12, 86, 74, 22, 16, 61, 92, 15, 91, 91, 56, 33, 12, 56, 66, 77, 20, 35, 3, 31, 32, 15, 7, 38, 94, 12, 47, 89, 13, 79, 58, 65, 17, 45, 57, 61, 74, 66, 1, 82, 51, 73, 99, 65, 24, 54, 45, 83, 50, 57, 40, 80, 58, 59, 80, 1, 67, 51, 2, 79, 34, 70, 29, 60, 11, 73, 51, 15, 31, 28, 95, 94, 42, 80, 12, 44, 95, 83, 26]\n"
     ]
    },
    {
     "data": {
      "image/png": "[encoded data removed]",
      "text/plain": [
       "<Figure size 640x480 with 1 Axes>"
      ]
     },
     "metadata": {},
     "output_type": "display_data"
    }
   ],
   "source": [
    "import numpy as np\n",
    "import random\n",
    "import matplotlib.pyplot as plt\n",
    "\n",
    "random_way_x = []\n",
    "random_way_y = []\n",
    "\n",
    "for i in range(100):\n",
    "    random_way_x.append(random.randrange(1, 101, 1))\n",
    "    random_way_y.append(random.randrange(1, 101, 1))\n",
    "\n",
    "print(random_way_y)\n",
    "print(random_way_x)\n",
    "\n",
    "coefficients = np.polyfit(random_way_x, random_way_y, deg=9)  # Change the degree as needed\n",
    "\n",
    "# Create a polynomial function from the coefficients\n",
    "poly_func = np.poly1d(coefficients)\n",
    "\n",
    "# Calculate the nth derivative of the function\n",
    "n = 1  # Replace with the desired derivative order\n",
    "nth_derivative = poly_func\n",
    "\n",
    "for _ in range(n):\n",
    "    nth_derivative = np.polyder(nth_derivative)\n",
    "\n",
    "# Generate x values for plotting\n",
    "x = np.linspace(min(random_way_x), max(random_way_x), 100)\n",
    "\n",
    "# Evaluate the function and its nth derivative at x values\n",
    "y = poly_func(x)\n",
    "y_nth_derivative = nth_derivative(x)\n",
    "\n",
    "# Plot the function and its nth derivative\n",
    "plt.plot(x, y, label='Function')\n",
    "plt.plot(x, y_nth_derivative, label=f'{n}th Derivative')\n",
    "plt.xlabel('x')\n",
    "plt.ylabel('y')\n",
    "plt.legend()\n",
    "plt.show()\n",
    "\n"
   ]
  },
  {
   "cell_type": "code",
   "execution_count": 78,
   "metadata": {},
   "outputs": [
    {
     "data": {
      "image/png": "[encoded data removed]",
      "text/plain": [
       "<Figure size 640x480 with 1 Axes>"
      ]
     },
     "metadata": {},
     "output_type": "display_data"
    }
   ],
   "source": [
    "car.t = list(range(0, 100, 1))\n",
    "trajectory_x = []\n",
    "trajectory_y = []\n",
    "\n",
    "for i in range(100):\n",
    "    x, y = car.calculation_xy(3000, 4, 1, 400, 1, 999, 0, car.t[i], 0)\n",
    "    trajectory_x.append(x)\n",
    "    trajectory_y.append(y)\n",
    "\n",
    "# Plot the trajectory\n",
    "plt.plot(trajectory_x, trajectory_y)\n",
    "plt.xlabel('x')\n",
    "plt.ylabel('y')\n",
    "plt.title('Trajectory')\n",
    "plt.show()\n"
   ]
  },
  {
   "cell_type": "code",
   "execution_count": 35,
   "metadata": {},
   "outputs": [],
   "source": [
    "#пример 2\n",
    "import math\n",
    "n=100\n",
    "way_x=[1,1]\n",
    "way_y=[55,89]\n",
    "def new_dotf(x,n):\n",
    "    while len(x)<n:\n",
    "        next_num=x[-1]+x[-2]\n",
    "        x.append(next_num)\n",
    "    return x\n",
    "coord_x=new_dotf(way_x,n) \n",
    "coord_y=new_dotf(way_y,n)"
   ]
  },
  {
   "cell_type": "code",
   "execution_count": null,
   "metadata": {},
   "outputs": [],
   "source": []
  },
  {
   "cell_type": "code",
   "execution_count": 25,
   "metadata": {},
   "outputs": [
    {
     "name": "stdout",
     "output_type": "stream",
     "text": [
      "            8            7            6            5           4\n",
      "-0.0001211 x - 0.000546 x - 0.002376 x - 0.009387 x - 0.02651 x\n",
      "            3         2\n",
      " + 0.04127 x + 1.517 x + 13.63 x + 48.19\n"
     ]
    },
    {
     "name": "stderr",
     "output_type": "stream",
     "text": [
      "C:\\Users\\Андрей\\AppData\\Local\\Temp\\ipykernel_9240\\3899887841.py:6: RankWarning: Polyfit may be poorly conditioned\n",
      "  coefficients = np.polyfit(way_x, way_y, deg=9)  # Change the degree as needed\n"
     ]
    }
   ],
   "source": [
    "#пример 2\n",
    "import numpy as np\n",
    "way_x=[1,1,2,3,5]\n",
    "way_y=[55,89,144,233,377]\n",
    "# Fit a polynomial curve to the data\n",
    "coefficients = np.polyfit(way_x, way_y, deg=9)  # Change the degree as needed\n",
    "\n",
    "# Create a polynomial function from the coefficients\n",
    "poly_func = np.poly1d(coefficients)\n",
    "\n",
    "# Calculate the derivative of the function\n",
    "derivative = np.polyder(poly_func)\n",
    "\n",
    "# Print the derivative function\n",
    "print(derivative)"
   ]
  },
  {
   "cell_type": "code",
   "execution_count": 17,
   "metadata": {},
   "outputs": [
    {
     "name": "stdout",
     "output_type": "stream",
     "text": [
      "[99]\n"
     ]
    }
   ],
   "source": [
    "car.time_now=100\n",
    "car.velosity_x=1 # скорость X\n",
    "car.velosity_y=1 # скорость Y\n",
    "car.x=list(range(0,car.time_now ,car.velosity_x))\n",
    "car.y=list(range(0,car.time_now,car.velosity_y))\n",
    "car.t=list(range(0,car.time_now,1))\n",
    "if len(car.x)>len(car.y):\n",
    "    for i in range (len (car.x)):\n",
    "        if i== len (car.y):\n",
    "         del car.x[i:]\n",
    "else :\n",
    "    for i in range (len (car.y)):\n",
    "            if i== len (car.x):\n",
    "                del car.y[i:]\n",
    "                print (car.y)\n",
    "for i in range (len (car.t)):\n",
    "            if i== len (car.y):\n",
    "                del car.t[i:]\n",
    "                print (car.t)\n",
    "\n",
    "print (car.t[-1:])\n"
   ]
  },
  {
   "cell_type": "code",
   "execution_count": 65,
   "metadata": {},
   "outputs": [
    {
     "ename": "TypeError",
     "evalue": "Car() takes no arguments",
     "output_type": "error",
     "traceback": [
      "\u001b[1;31m---------------------------------------------------------------------------\u001b[0m",
      "\u001b[1;31mTypeError\u001b[0m                                 Traceback (most recent call last)",
      "\u001b[1;32md:\\Project_1\\dz2.ipynb Cell 13\u001b[0m line \u001b[0;36m2\n\u001b[0;32m     <a href='vscode-notebook-cell:/d%3A/Project_1/dz2.ipynb#X16sZmlsZQ%3D%3D?line=24'>25</a>\u001b[0m     random_way_x\u001b[39m.\u001b[39mappend(random\u001b[39m.\u001b[39mrandrange(\u001b[39m1\u001b[39m, \u001b[39m101\u001b[39m, \u001b[39m1\u001b[39m))\n\u001b[0;32m     <a href='vscode-notebook-cell:/d%3A/Project_1/dz2.ipynb#X16sZmlsZQ%3D%3D?line=25'>26</a>\u001b[0m     random_way_y\u001b[39m.\u001b[39mappend(random\u001b[39m.\u001b[39mrandrange(\u001b[39m1\u001b[39m, \u001b[39m101\u001b[39m, \u001b[39m1\u001b[39m))\n\u001b[1;32m---> <a href='vscode-notebook-cell:/d%3A/Project_1/dz2.ipynb#X16sZmlsZQ%3D%3D?line=27'>28</a>\u001b[0m car \u001b[39m=\u001b[39m Car(\u001b[39m\"\u001b[39;49m\u001b[39mExample\u001b[39;49m\u001b[39m\"\u001b[39;49m, \u001b[39m0\u001b[39;49m, \u001b[39m0\u001b[39;49m, \u001b[39m100\u001b[39;49m, \u001b[39m0\u001b[39;49m, \u001b[39m0\u001b[39;49m, \u001b[39m0\u001b[39;49m, \u001b[39m0\u001b[39;49m)\n\u001b[0;32m     <a href='vscode-notebook-cell:/d%3A/Project_1/dz2.ipynb#X16sZmlsZQ%3D%3D?line=29'>30</a>\u001b[0m \u001b[39m# Calculate trajectory\u001b[39;00m\n\u001b[0;32m     <a href='vscode-notebook-cell:/d%3A/Project_1/dz2.ipynb#X16sZmlsZQ%3D%3D?line=30'>31</a>\u001b[0m trajectory_x \u001b[39m=\u001b[39m []\n",
      "\u001b[1;31mTypeError\u001b[0m: Car() takes no arguments"
     ]
    }
   ],
   "source": [
    "import numpy as np\n",
    "import matplotlib.pyplot as plt\n",
    "\n",
    "class Car:\n",
    "    def init(self, mark, x, y, t, time_now, velocity, velocity_x, velocity_y):\n",
    "        self.mark = mark\n",
    "        self.x = x\n",
    "        self.y = y\n",
    "        self.t = t\n",
    "        self.time_now = time_now\n",
    "        self.velocity = velocity\n",
    "        self.velocity_x = velocity_x\n",
    "        self.velocity_y = velocity_y\n",
    "\n",
    "    @staticmethod\n",
    "    def calculation_xy(velocity_x, velocity_y, acc_x, acc_y, rd3_x, rd3_y, x0, t, y0):\n",
    "        x = velocity_x + (acc_x * t) / 2 + (rd3_x * t ** 2) / 6 + x0\n",
    "        y = velocity_y + (acc_y * t) / 2 + (rd3_y * t ** 2) / 6 + y0\n",
    "        return x, y\n",
    "\n",
    "# Example usage\n",
    "random_way_x = []\n",
    "random_way_y = []\n",
    "for i in range(100):\n",
    "    random_way_x.append(random.randrange(1, 101, 1))\n",
    "    random_way_y.append(random.randrange(1, 101, 1))\n",
    "\n",
    "car = Car(\"Example\", 0, 0, 100, 0, 0, 0, 0)\n",
    "\n",
    "# Calculate trajectory\n",
    "trajectory_x = []\n",
    "trajectory_y = []\n",
    "\n",
    "for t in range(100):\n",
    "    x, y = car.calculation_xy(3, 4, 3, 4, 1, 1, 0, t, 0)\n",
    "    trajectory_x.append(x)\n",
    "    trajectory_y.append(y)\n",
    "\n",
    "# Plot the trajectory\n",
    "plt.plot(trajectory_x, trajectory_y)\n",
    "plt.xlabel('x')\n",
    "plt.ylabel('y')\n",
    "plt.title('Trajectory')\n",
    "plt.show()\n"
   ]
  }
 ],
 "metadata": {
  "kernelspec": {
   "display_name": "Python 3",
   "language": "python",
   "name": "python3"
  },
  "language_info": {
   "codemirror_mode": {
    "name": "ipython",
    "version": 3
   },
   "file_extension": ".py",
   "mimetype": "text/x-python",
   "name": "python",
   "nbconvert_exporter": "python",
   "pygments_lexer": "ipython3",
   "version": "3.11.5"
  },
  "orig_nbformat": 4
 },
 "nbformat": 4,
 "nbformat_minor": 2
}
