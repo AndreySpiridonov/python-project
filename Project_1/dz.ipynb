{
 "cells": [
  {
   "cell_type": "code",
   "execution_count": null,
   "metadata": {},
   "outputs": [],
   "source": [
    "# Вычислить площадь трапеции\n",
    "# дописать условия \n",
    "def plosh_trop():\n",
    "    x=int(input(\"введите большее основания трапеции\"))\n",
    "    y=int(input(\"введите меньшее основание трапеции\"))\n",
    "    h=int(input(\"введите высоту трапеции\"))\n",
    "    pl_trop=(x+y)*h/2\n",
    "    print (\"\\n большее основания трапеции\", x, \"\\n меньшее основания трапеции\", y, \"\\n высоту трапеции\", h, \"\\n Площадь трапеции\", pl_trop)"
   ]
  },
  {
   "cell_type": "code",
   "execution_count": null,
   "metadata": {},
   "outputs": [],
   "source": [
    "#дописать площадь треуголька соблюдая условия .гугл неравество треуголька + все эти функции обьединь в класс ploshad"
   ]
  },
  {
   "cell_type": "code",
   "execution_count": null,
   "metadata": {},
   "outputs": [],
   "source": [
    "# Вычислить площадь прямоугольника\n",
    "def plosh_pr():\n",
    "    x=int(input(\"введите длину прямоугольника\"))\n",
    "    y=int(input(\"введите ширину прямоугольника\"))\n",
    "    print (\"\\n Площадь прямоугольника\", x*y)"
   ]
  },
  {
   "cell_type": "code",
   "execution_count": null,
   "metadata": {},
   "outputs": [
    {
     "name": "stdout",
     "output_type": "stream",
     "text": [
      "1 3\n"
     ]
    }
   ],
   "source": [
    "print(10%3,10//3)\n",
    "#остаток и целая часть"
   ]
  },
  {
   "cell_type": "code",
   "execution_count": null,
   "metadata": {},
   "outputs": [],
   "source": [
    "# Вычислить площадь круга\n",
    "import math\n",
    "def ploshad_kruga():\n",
    "    r=int(input(\"введите радиус\"))\n",
    "    S=math.pi*(r**2)\n",
    "    print (\"\\n Площадь круга радиусом\",r,\"равна\",S)"
   ]
  },
  {
   "cell_type": "code",
   "execution_count": null,
   "metadata": {},
   "outputs": [
    {
     "name": "stdout",
     "output_type": "stream",
     "text": [
      "\n",
      " Площадь круга радиусом 5 равна 78.53981633974483\n"
     ]
    }
   ],
   "source": [
    "ploshad_kruga()"
   ]
  },
  {
   "cell_type": "code",
   "execution_count": null,
   "metadata": {},
   "outputs": [],
   "source": [
    "#Условие неравенства треугольника. Любая сторона меньше суммы двух других сторон.\n",
    "import math\n",
    "def plosh_tr3st(first_st,second_st,third_st):\n",
    "    #a=int (input(\"введите длину 1 катета треугольника\"))\n",
    "    #b=int (input(\"введите длину 2 катета треугольника\"))\n",
    "    #c=int (input(\"введите длину 3 катета треугольника\"))\n",
    "    if second_st+third_st>first_st:\n",
    "        print (\"катет a соответствует условию неравенства триугольника\\n\")\n",
    "        if first_st+third_st>second_st:\n",
    "            print (\"катет b соответствует условию неравенства триугольника\\n\")\n",
    "            if first_st+second_st>third_st:\n",
    "                print (\"катет c соответствует условию неравенства триугольника\\n\")\n",
    "                p=(first_st+second_st+third_st)/2\n",
    "                s=math.sqrt((p*(p-first_st)*(p-second_st)*(p-third_st)))\n",
    "                print (\"\\n Полупириметр треугольника\", p)\n",
    "                print (\"\\n Площадь треугольника\", s)      \n",
    "            else:\n",
    "                print (\"катет c не соответствует условию неравенства триугольника a+b>c \\n\")\n",
    "                return\n",
    "        else:\n",
    "            print (\"катет b не соответствует условию неравенства триугольника a+c>b \\n\")\n",
    "            return\n",
    "    else:\n",
    "        print (\"катет a не соответствует условию неравенства триугольника b+c>a \\n\")\n",
    "        return"
   ]
  },
  {
   "cell_type": "code",
   "execution_count": null,
   "metadata": {},
   "outputs": [],
   "source": [
    "#Условие неравенства треугольника. Любая сторона меньше суммы двух других сторон.\n",
    "import math\n",
    "def plosh_tr3st(first_st,second_st,third_st):\n",
    "    if second_st+third_st>first_st:\n",
    "        if first_st+third_st>second_st:\n",
    "            if first_st+second_st>third_st:\n",
    "                p=(first_st+second_st+third_st)/2\n",
    "                s=math.sqrt((p*(p-first_st)*(p-second_st)*(p-third_st)))\n",
    "                print (\"\\n Полупириметр треугольника\", p)\n",
    "                print (\"\\n Площадь треугольника\", s)      \n",
    "            else:\n",
    "                print (\"катет c не соответствует условию неравенства триугольника a+b>c \\n\")\n",
    "                return\n",
    "        else:\n",
    "            print (\"катет b не соответствует условию неравенства триугольника a+c>b \\n\")\n",
    "            return\n",
    "    else:\n",
    "        print (\"катет a не соответствует условию неравенства триугольника b+c>a \\n\")\n",
    "        return"
   ]
  },
  {
   "cell_type": "code",
   "execution_count": null,
   "metadata": {},
   "outputs": [
    {
     "name": "stdout",
     "output_type": "stream",
     "text": [
      "\n",
      " Полупириметр треугольника 9.0\n",
      "\n",
      " Площадь треугольника 14.696938456699069\n"
     ]
    }
   ],
   "source": [
    "#plosh_tr3st(5,6,7)\n",
    "#plosh_tr3st(90,1,1)\n",
    "#plosh_tr3st(91,91,1)\n",
    "#plosh_tr3st(90,91,901)"
   ]
  },
  {
   "cell_type": "code",
   "execution_count": null,
   "metadata": {},
   "outputs": [],
   "source": [
    "#Площадь треугольника через две стороны и угол между ними. S = 0,5 * a * b⋅sin (α), где a, b — стороны, α — угол между ними..\n",
    "import math\n",
    "def plosh_tr2st():\n",
    "    a=float (input(\"введите длину 1 катета треугольника\"))\n",
    "    b=float (input(\"введите длину 2 катета треугольника\"))\n",
    "    degrees=float (input(\"введите угол между двумя сторонами\"))\n",
    "    p=a+b+math.sqrt(a**2+b**2-2*a*b*math.cos(degrees/180*math.pi))\n",
    "    s=0.5*a*b*math.sin(degrees/180*math.pi)\n",
    "    print (\"\\n Пириметр треугольника\", p)\n",
    "    print (\"\\n Площадь треугольника\", s)      "
   ]
  },
  {
   "cell_type": "code",
   "execution_count": null,
   "metadata": {},
   "outputs": [
    {
     "name": "stdout",
     "output_type": "stream",
     "text": [
      "\n",
      " Пириметр треугольника 3.414213562373095\n",
      "\n",
      " Площадь треугольника 0.5\n"
     ]
    }
   ],
   "source": [
    "plosh_tr2st()"
   ]
  },
  {
   "cell_type": "code",
   "execution_count": null,
   "metadata": {},
   "outputs": [],
   "source": [
    "#Площадь треугольника по двум углам и стороне между ними. S=L**2*(sinα*sinβ)/(2*sin(α+β)) , где L — сторона, α и β — прилежащие углы...\n",
    "import math\n",
    "def plosh_tr1st():\n",
    "    degrees1=float (input(\"введите угол a треугольника\"))\n",
    "    degrees2=float (input(\"введите угол b треугольника\"))\n",
    "    l=float (input(\"введите длину стороны L между двумя уголами\"))\n",
    "    s=(l**2*(math.sin(degrees1/180*math.pi)*math.sin(degrees2/180*math.pi)))/(2*math.sin((degrees1+degrees2)/180*math.pi))\n",
    "    print (\"\\n Площадь треугольника\", s)     "
   ]
  },
  {
   "cell_type": "code",
   "execution_count": null,
   "metadata": {},
   "outputs": [
    {
     "name": "stdout",
     "output_type": "stream",
     "text": [
      "\n",
      " Площадь треугольника 43.301270189221924\n"
     ]
    }
   ],
   "source": [
    "plosh_tr1st()"
   ]
  },
  {
   "cell_type": "code",
   "execution_count": null,
   "metadata": {},
   "outputs": [],
   "source": [
    "#Площадь треугольника по двум углам и стороне между ними. S=L**2*(sinα*sinβ)/(2*sin(α+β)) , где L — сторона, α и β — прилежащие углы...\n",
    "import math\n",
    "def plosh_tr1st():\n",
    "    a=float (input(\"введите угол a треугольника\"))\n",
    "    degrees1=a/180*math.pi\n",
    "    b=float (input(\"введите угол b треугольника\"))\n",
    "    degrees2=b/180*math.pi\n",
    "    l=float (input(\"введите длину стороны L между двумя уголами\"))\n",
    "    s=(l**2*(math.sin(degrees1)*math.sin(degrees2)))/(2*math.sin((degrees1+degrees2)))\n",
    "    print (\"\\n Площадь треугольника\", s)     "
   ]
  },
  {
   "cell_type": "code",
   "execution_count": null,
   "metadata": {},
   "outputs": [
    {
     "name": "stdout",
     "output_type": "stream",
     "text": [
      "\n",
      " Площадь треугольника 43.301270189221924\n"
     ]
    }
   ],
   "source": [
    "plosh_tr1st()"
   ]
  },
  {
   "cell_type": "code",
   "execution_count": 5,
   "metadata": {},
   "outputs": [
    {
     "name": "stdout",
     "output_type": "stream",
     "text": [
      "*************** Калькулятор ***************\n",
      "Для выхода введите q в качестве знака операции\n",
      "2.00\n"
     ]
    }
   ],
   "source": [
    "print (\"*\" *15, \"Калькулятор\",\"*\" *15)\n",
    "print (\"Для выхода введите q в качестве знака операции\")\n",
    "while True:\n",
    "    s=input(\"Знак (+,-,*,/):\")\n",
    "    if s == 'q': break\n",
    "    if s in ('+','-','*','/'):\n",
    "        x = float(input(\"x=\"))\n",
    "        y = float(input(\"y=\"))\n",
    "        if s == '+':\n",
    "            print(\"%.2f\" % (x+y))\n",
    "        elif s == '-':\n",
    "            print(\"%.2f\" % (x-y))\n",
    "        elif s == '*':\n",
    "            print(\"%.2f\" % (x*y))\n",
    "        elif s == '/':\n",
    "            if y !=0:\n",
    "                print(\"%.2f\" % (x/y))\n",
    "            else:\n",
    "                print(\"Деление на ноль!\")\n",
    "    else:\n",
    "        print(\"Неверный знак операции!\")"
   ]
  },
  {
   "cell_type": "code",
   "execution_count": null,
   "metadata": {},
   "outputs": [],
   "source": [
    "print (\"*\" *15, \"Калькулятор\",\"*\" *15)\n",
    "print (\"Для выхода введите q в качестве знака операции\")\n",
    "while True:\n",
    "    s=input(\"Знак (+,-,*,/):\")\n",
    "    if s == 'q': break\n",
    "    if s in ('+','-','*','/'):\n",
    "        x = float(input(\"x=\"))\n",
    "        y = float(input(\"y=\"))\n",
    "        if s == '+':\n",
    "            print(\"%.2f\" % (x+y))\n",
    "        elif s == '-':\n",
    "            print(\"%.2f\" % (x-y))\n",
    "        elif s == '*':\n",
    "            print(\"%.2f\" % (x*y))\n",
    "        elif s == '/':\n",
    "            if y !=0:\n",
    "                print(\"%.2f\" % (x/y))\n",
    "            else:\n",
    "                print(\"Деление на ноль!\")\n",
    "    else:\n",
    "        print(\"Неверный знак операции!\")"
   ]
  },
  {
   "cell_type": "code",
   "execution_count": null,
   "metadata": {},
   "outputs": [],
   "source": [
    "# создать 3 листа от 0 до n которое задется с клавиатуры\n",
    "\n",
    "# 1 лист должен быть четным от 0 до n\n",
    "\n",
    "# 2 лист нечетным от 0 до n\n",
    "\n",
    "# 3 лист кратным 5 от 0 до n\n",
    " \n",
    "# Далее сравнить каждый элемент листа 3 c элементами листа 2 и листа 1 и  элементы содержащиеся во всех 3 листах вывести на экран ввиде нового листа\n",
    "\n",
    "# доп.задание составить и  вывести матрицу из листа 1 листа 2 и листа 3 "
   ]
  },
  {
   "cell_type": "code",
   "execution_count": 42,
   "metadata": {},
   "outputs": [],
   "source": [
    "def lista(a,b,c,n):\n",
    "    list_a=list(range(0, n, 2))\n",
    "    list_b=list(range(1, n, 2))\n",
    "    list_c=list(range(0, n, 5))\n",
    "    list_d=list(range(0, n, 1))\n",
    "    if len(list_a)==len(list_b)==len(list_c):\n",
    "        print(\"длина равна\")\n",
    "    for i in range(len(list_a)):\n",
    "        list_d[i]=list_a[i]+(list_c[i]+list_b[i])\n",
    "    return(list_a,list_b,list_c)\n",
    "    "
   ]
  },
  {
   "cell_type": "code",
   "execution_count": 39,
   "metadata": {},
   "outputs": [
    {
     "ename": "TypeError",
     "evalue": "list() missing 3 required positional arguments: 'b', 'c', and 'd'",
     "output_type": "error",
     "traceback": [
      "\u001b[1;31m---------------------------------------------------------------------------\u001b[0m",
      "\u001b[1;31mTypeError\u001b[0m                                 Traceback (most recent call last)",
      "Cell \u001b[1;32mIn[39], line 1\u001b[0m\n\u001b[1;32m----> 1\u001b[0m a\u001b[39m=\u001b[39mlist_a(\u001b[39m2\u001b[39;49m)\n",
      "Cell \u001b[1;32mIn[34], line 2\u001b[0m, in \u001b[0;36mlist_a\u001b[1;34m(n)\u001b[0m\n\u001b[0;32m      1\u001b[0m \u001b[39mdef\u001b[39;00m \u001b[39mlist_a\u001b[39m(n):\n\u001b[1;32m----> 2\u001b[0m     list_a\u001b[39m=\u001b[39m\u001b[39mlist\u001b[39;49m(\u001b[39mrange\u001b[39;49m(\u001b[39m0\u001b[39;49m, n, \u001b[39m2\u001b[39;49m))\n\u001b[0;32m      3\u001b[0m     list_b\u001b[39m=\u001b[39m\u001b[39mlist\u001b[39m(\u001b[39mrange\u001b[39m(\u001b[39m1\u001b[39m, n, \u001b[39m2\u001b[39m))\n\u001b[0;32m      4\u001b[0m     list_c\u001b[39m=\u001b[39m\u001b[39mlist\u001b[39m(\u001b[39mrange\u001b[39m(\u001b[39m0\u001b[39m, n, \u001b[39m5\u001b[39m))\n",
      "\u001b[1;31mTypeError\u001b[0m: list() missing 3 required positional arguments: 'b', 'c', and 'd'"
     ]
    }
   ],
   "source": [
    "a=list_a(2)"
   ]
  },
  {
   "cell_type": "code",
   "execution_count": 11,
   "metadata": {},
   "outputs": [
    {
     "name": "stdout",
     "output_type": "stream",
     "text": [
      "0\n"
     ]
    }
   ],
   "source": [
    "#Поиск в списке значение\n",
    "N=int(input())\n",
    "first_st=[int(x)for x in input().split()]\n",
    "x=int(input())\n",
    "\n",
    "count=0\n",
    "for elem in first_st:\n",
    "    if elem == x:\n",
    "        count==1\n",
    "print(count)"
   ]
  },
  {
   "cell_type": "code",
   "execution_count": 13,
   "metadata": {},
   "outputs": [
    {
     "name": "stdout",
     "output_type": "stream",
     "text": [
      "0\n"
     ]
    }
   ],
   "source": [
    "#Поиск в списке значение\n",
    "N=int(input())\n",
    "first_st=[int(x)for x in input().split()]\n",
    "x=int(input())\n",
    "\n",
    "res = first_st[0]\n",
    "\n",
    "for el in first_st:\n",
    "    if abs(x - el) < abs(x - res):\n",
    "        res=el\n",
    "print(count)"
   ]
  },
  {
   "cell_type": "code",
   "execution_count": null,
   "metadata": {},
   "outputs": [],
   "source": [
    "import turtle\n",
    "bob=turtle.Turtle()\n",
    "print(bob)\n",
    "turtle.mainloop()"
   ]
  },
  {
   "cell_type": "code",
   "execution_count": null,
   "metadata": {},
   "outputs": [],
   "source": [
    "bob.fd(100)\n",
    "bob.lt(90)\n",
    "bob.fd(100)\n",
    "bob.rt(90)\n"
   ]
  },
  {
   "cell_type": "code",
   "execution_count": null,
   "metadata": {},
   "outputs": [],
   "source": [
    "\"\"\"This module contains a code example related to\n",
    "\n",
    "Think Python, 2nd Edition\n",
    "by Allen Downey\n",
    "http://thinkpython2.com\n",
    "\n",
    "Copyright 2015 Allen Downey\n",
    "\n",
    "License: http://creativecommons.org/licenses/by/4.0/\n",
    "\"\"\"\n",
    "\n",
    "from __future__ import print_function, division\n",
    "\n",
    "import math\n",
    "import turtle\n",
    "\n",
    "\n",
    "def square(t, length):\n",
    "    \"\"\"Draws a square with sides of the given length.\n",
    "\n",
    "    Returns the Turtle to the starting position and location.\n",
    "    \"\"\"\n",
    "    for i in range(4):\n",
    "        t.fd(length)\n",
    "        t.lt(90)\n",
    "\n",
    "\n",
    "def polyline(t, n, length, angle):\n",
    "    \"\"\"Draws n line segments.\n",
    "\n",
    "    t: Turtle object\n",
    "    n: number of line segments\n",
    "    length: length of each segment\n",
    "    angle: degrees between segments\n",
    "    \"\"\"\n",
    "    for i in range(n):\n",
    "        t.fd(length)\n",
    "        t.lt(angle)\n",
    "\n",
    "\n",
    "def polygon(t, n, length):\n",
    "    \"\"\"Draws a polygon with n sides.\n",
    "\n",
    "    t: Turtle\n",
    "    n: number of sides\n",
    "    length: length of each side.\n",
    "    \"\"\"\n",
    "    angle = 360.0/n\n",
    "    polyline(t, n, length, angle)\n",
    "\n",
    "\n",
    "def arc(t, r, angle):\n",
    "    \"\"\"Draws an arc with the given radius and angle.\n",
    "\n",
    "    t: Turtle\n",
    "    r: radius\n",
    "    angle: angle subtended by the arc, in degrees\n",
    "    \"\"\"\n",
    "    arc_length = 2 * math.pi * r * abs(angle) / 360\n",
    "    n = int(arc_length / 4) + 3\n",
    "    step_length = arc_length / n\n",
    "    step_angle = float(angle) / n\n",
    "\n",
    "    # making a slight left turn before starting reduces\n",
    "    # the error caused by the linear approximation of the arc\n",
    "    t.lt(step_angle/2)\n",
    "    polyline(t, n, step_length, step_angle)\n",
    "    t.rt(step_angle/2)\n",
    "\n",
    "\n",
    "def circle(t, r):\n",
    "    \"\"\"Draws a circle with the given radius.\n",
    "\n",
    "    t: Turtle\n",
    "    r: radius\n",
    "    \"\"\"\n",
    "    arc(t, r, 360)\n",
    "\n",
    "\n",
    "# the following condition checks whether we are\n",
    "# running as a script, in which case run the test code,\n",
    "# or being imported, in which case don't.\n",
    "\n",
    "if __name__ == '__main__':\n",
    "    bob = turtle.Turtle()\n",
    "\n",
    "    # draw a circle centered on the origin\n",
    "    radius = 100\n",
    "    bob.pu()\n",
    "    bob.fd(radius)\n",
    "    bob.lt(90)\n",
    "    bob.pd()\n",
    "    circle(bob, radius)\n",
    "\n",
    "    # wait for the user to close the window\n",
    "    turtle.mainloop()"
   ]
  },
  {
   "cell_type": "code",
   "execution_count": 7,
   "metadata": {},
   "outputs": [],
   "source": [
    "\n",
    "import math\n",
    "import turtle\n",
    "\n",
    "def square(t, length):\n",
    "    for i in range(4):\n",
    "        t.fd(length)\n",
    "        t.lt(90)\n",
    "        t.fd(100)\n",
    "        t.rt(90)\n",
    "        print(t,length)\n",
    "        turtle.mainloop()"
   ]
  },
  {
   "cell_type": "code",
   "execution_count": 8,
   "metadata": {},
   "outputs": [
    {
     "ename": "NameError",
     "evalue": "name 't' is not defined",
     "output_type": "error",
     "traceback": [
      "\u001b[1;31m---------------------------------------------------------------------------\u001b[0m",
      "\u001b[1;31mNameError\u001b[0m                                 Traceback (most recent call last)",
      "\u001b[1;32md:\\Project_1\\dz.ipynb Cell 25\u001b[0m line \u001b[0;36m1\n\u001b[1;32m----> <a href='vscode-notebook-cell:/d%3A/Project_1/dz.ipynb#X34sZmlsZQ%3D%3D?line=0'>1</a>\u001b[0m square(t, length)\n",
      "\u001b[1;31mNameError\u001b[0m: name 't' is not defined"
     ]
    }
   ],
   "source": [
    "square(t, length)"
   ]
  },
  {
   "cell_type": "code",
   "execution_count": 5,
   "metadata": {},
   "outputs": [
    {
     "ename": "Terminator",
     "evalue": "",
     "output_type": "error",
     "traceback": [
      "\u001b[1;31m---------------------------------------------------------------------------\u001b[0m",
      "\u001b[1;31mTerminator\u001b[0m                                Traceback (most recent call last)",
      "\u001b[1;32md:\\Project_1\\dz.ipynb Cell 24\u001b[0m line \u001b[0;36m3\n\u001b[0;32m     <a href='vscode-notebook-cell:/d%3A/Project_1/dz.ipynb#X35sZmlsZQ%3D%3D?line=34'>35</a>\u001b[0m         theta \u001b[39m+\u001b[39m\u001b[39m=\u001b[39m dtheta\n\u001b[0;32m     <a href='vscode-notebook-cell:/d%3A/Project_1/dz.ipynb#X35sZmlsZQ%3D%3D?line=37'>38</a>\u001b[0m \u001b[39m# create the world and bob\u001b[39;00m\n\u001b[1;32m---> <a href='vscode-notebook-cell:/d%3A/Project_1/dz.ipynb#X35sZmlsZQ%3D%3D?line=38'>39</a>\u001b[0m bob \u001b[39m=\u001b[39m turtle\u001b[39m.\u001b[39;49mTurtle()\n\u001b[0;32m     <a href='vscode-notebook-cell:/d%3A/Project_1/dz.ipynb#X35sZmlsZQ%3D%3D?line=39'>40</a>\u001b[0m draw_spiral(bob, n\u001b[39m=\u001b[39m\u001b[39m1000\u001b[39m)\n\u001b[0;32m     <a href='vscode-notebook-cell:/d%3A/Project_1/dz.ipynb#X35sZmlsZQ%3D%3D?line=41'>42</a>\u001b[0m turtle\u001b[39m.\u001b[39mmainloop()\n",
      "File \u001b[1;32mC:\\Program Files\\WindowsApps\\PythonSoftwareFoundation.Python.3.11_3.11.1520.0_x64__qbz5n2kfra8p0\\Lib\\turtle.py:3831\u001b[0m, in \u001b[0;36mTurtle.__init__\u001b[1;34m(self, shape, undobuffersize, visible)\u001b[0m\n\u001b[0;32m   3829\u001b[0m \u001b[39mif\u001b[39;00m Turtle\u001b[39m.\u001b[39m_screen \u001b[39mis\u001b[39;00m \u001b[39mNone\u001b[39;00m:\n\u001b[0;32m   3830\u001b[0m     Turtle\u001b[39m.\u001b[39m_screen \u001b[39m=\u001b[39m Screen()\n\u001b[1;32m-> 3831\u001b[0m RawTurtle\u001b[39m.\u001b[39;49m\u001b[39m__init__\u001b[39;49m(\u001b[39mself\u001b[39;49m, Turtle\u001b[39m.\u001b[39;49m_screen,\n\u001b[0;32m   3832\u001b[0m                    shape\u001b[39m=\u001b[39;49mshape,\n\u001b[0;32m   3833\u001b[0m                    undobuffersize\u001b[39m=\u001b[39;49mundobuffersize,\n\u001b[0;32m   3834\u001b[0m                    visible\u001b[39m=\u001b[39;49mvisible)\n",
      "File \u001b[1;32mC:\\Program Files\\WindowsApps\\PythonSoftwareFoundation.Python.3.11_3.11.1520.0_x64__qbz5n2kfra8p0\\Lib\\turtle.py:2558\u001b[0m, in \u001b[0;36mRawTurtle.__init__\u001b[1;34m(self, canvas, shape, undobuffersize, visible)\u001b[0m\n\u001b[0;32m   2556\u001b[0m \u001b[39mself\u001b[39m\u001b[39m.\u001b[39m_undobuffersize \u001b[39m=\u001b[39m undobuffersize\n\u001b[0;32m   2557\u001b[0m \u001b[39mself\u001b[39m\u001b[39m.\u001b[39mundobuffer \u001b[39m=\u001b[39m Tbuffer(undobuffersize)\n\u001b[1;32m-> 2558\u001b[0m \u001b[39mself\u001b[39;49m\u001b[39m.\u001b[39;49m_update()\n",
      "File \u001b[1;32mC:\\Program Files\\WindowsApps\\PythonSoftwareFoundation.Python.3.11_3.11.1520.0_x64__qbz5n2kfra8p0\\Lib\\turtle.py:2661\u001b[0m, in \u001b[0;36mRawTurtle._update\u001b[1;34m(self)\u001b[0m\n\u001b[0;32m   2659\u001b[0m     \u001b[39mreturn\u001b[39;00m\n\u001b[0;32m   2660\u001b[0m \u001b[39melif\u001b[39;00m screen\u001b[39m.\u001b[39m_tracing \u001b[39m==\u001b[39m \u001b[39m1\u001b[39m:\n\u001b[1;32m-> 2661\u001b[0m     \u001b[39mself\u001b[39;49m\u001b[39m.\u001b[39;49m_update_data()\n\u001b[0;32m   2662\u001b[0m     \u001b[39mself\u001b[39m\u001b[39m.\u001b[39m_drawturtle()\n\u001b[0;32m   2663\u001b[0m     screen\u001b[39m.\u001b[39m_update()                  \u001b[39m# TurtleScreenBase\u001b[39;00m\n",
      "File \u001b[1;32mC:\\Program Files\\WindowsApps\\PythonSoftwareFoundation.Python.3.11_3.11.1520.0_x64__qbz5n2kfra8p0\\Lib\\turtle.py:2647\u001b[0m, in \u001b[0;36mRawTurtle._update_data\u001b[1;34m(self)\u001b[0m\n\u001b[0;32m   2646\u001b[0m \u001b[39mdef\u001b[39;00m \u001b[39m_update_data\u001b[39m(\u001b[39mself\u001b[39m):\n\u001b[1;32m-> 2647\u001b[0m     \u001b[39mself\u001b[39;49m\u001b[39m.\u001b[39;49mscreen\u001b[39m.\u001b[39;49m_incrementudc()\n\u001b[0;32m   2648\u001b[0m     \u001b[39mif\u001b[39;00m \u001b[39mself\u001b[39m\u001b[39m.\u001b[39mscreen\u001b[39m.\u001b[39m_updatecounter \u001b[39m!=\u001b[39m \u001b[39m0\u001b[39m:\n\u001b[0;32m   2649\u001b[0m         \u001b[39mreturn\u001b[39;00m\n",
      "File \u001b[1;32mC:\\Program Files\\WindowsApps\\PythonSoftwareFoundation.Python.3.11_3.11.1520.0_x64__qbz5n2kfra8p0\\Lib\\turtle.py:1293\u001b[0m, in \u001b[0;36mTurtleScreen._incrementudc\u001b[1;34m(self)\u001b[0m\n\u001b[0;32m   1291\u001b[0m \u001b[39mif\u001b[39;00m \u001b[39mnot\u001b[39;00m TurtleScreen\u001b[39m.\u001b[39m_RUNNING:\n\u001b[0;32m   1292\u001b[0m     TurtleScreen\u001b[39m.\u001b[39m_RUNNING \u001b[39m=\u001b[39m \u001b[39mTrue\u001b[39;00m\n\u001b[1;32m-> 1293\u001b[0m     \u001b[39mraise\u001b[39;00m Terminator\n\u001b[0;32m   1294\u001b[0m \u001b[39mif\u001b[39;00m \u001b[39mself\u001b[39m\u001b[39m.\u001b[39m_tracing \u001b[39m>\u001b[39m \u001b[39m0\u001b[39m:\n\u001b[0;32m   1295\u001b[0m     \u001b[39mself\u001b[39m\u001b[39m.\u001b[39m_updatecounter \u001b[39m+\u001b[39m\u001b[39m=\u001b[39m \u001b[39m1\u001b[39m\n",
      "\u001b[1;31mTerminator\u001b[0m: "
     ]
    },
    {
     "ename": "",
     "evalue": "",
     "output_type": "error",
     "traceback": [
      "\u001b[1;31mThe Kernel crashed while executing code in the the current cell or a previous cell. Please review the code in the cell(s) to identify a possible cause of the failure. Click <a href='https://aka.ms/vscodeJupyterKernelCrash'>here</a> for more info. View Jupyter <a href='command:jupyter.viewOutput'>log</a> for further details."
     ]
    }
   ],
   "source": [
    "\"\"\"This module contains a code example related to\n",
    "\n",
    "Think Python, 2nd Edition\n",
    "by Allen Downey\n",
    "http://thinkpython2.com\n",
    "\n",
    "Copyright 2015 Allen Downey\n",
    "\n",
    "License: http://creativecommons.org/licenses/by/4.0/\n",
    "\"\"\"\n",
    "\n",
    "from __future__ import print_function, division\n",
    "\n",
    "import turtle\n",
    "\n",
    "\n",
    "def draw_spiral(t, n, length=3, a=0.1, b=0.0002):\n",
    "    \"\"\"Draws an Archimedian spiral starting at the origin.\n",
    "\n",
    "    Args:\n",
    "      n: how many line segments to draw\n",
    "      length: how long each segment is\n",
    "      a: how loose the initial spiral starts out (larger is looser)\n",
    "      b: how loosly coiled the spiral is (larger is looser)\n",
    "\n",
    "    http://en.wikipedia.org/wiki/Spiral\n",
    "    \"\"\"\n",
    "    theta = 0.0\n",
    "\n",
    "    for i in range(n):\n",
    "        t.fd(length)\n",
    "        dtheta = 1 / (a + b * theta)\n",
    "\n",
    "        t.lt(dtheta)\n",
    "        theta += dtheta\n",
    "\n",
    "\n",
    "# create the world and bob\n",
    "bob = turtle.Turtle()\n",
    "draw_spiral(bob, n=1000)\n",
    "\n",
    "turtle.mainloop()"
   ]
  }
 ],
 "metadata": {
  "kernelspec": {
   "display_name": "Python 3",
   "language": "python",
   "name": "python3"
  },
  "language_info": {
   "codemirror_mode": {
    "name": "ipython",
    "version": 3
   },
   "file_extension": ".py",
   "mimetype": "text/x-python",
   "name": "python",
   "nbconvert_exporter": "python",
   "pygments_lexer": "ipython3",
   "version": "3.11.6"
  },
  "orig_nbformat": 4
 },
 "nbformat": 4,
 "nbformat_minor": 2
}
