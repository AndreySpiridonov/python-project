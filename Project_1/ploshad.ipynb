{
 "cells": [
  {
   "cell_type": "code",
   "execution_count": 2,
   "metadata": {},
   "outputs": [],
   "source": [
    "import math\n",
    "class ploshad :\n",
    "    def trop(x, y, h):\n",
    "        pl_trop=(x+y)*h/2\n",
    "        print (\"\\n большее основания трапеции\", x, \"\\n меньшее основания трапеции\", y, \"\\n высоту трапеции\", h, \"\\n Площадь трапеции\", pl_trop)\n",
    "    def pr(x,y):\n",
    "        print (\"\\n Площадь прямоугольника\", x*y)\n",
    "    def kruga():\n",
    "        r=int(input(\"введите радиус\"))\n",
    "        S=math.pi*(r**2)\n",
    "        print (\"\\n Площадь круга радиусом\",r,\"равна\",S)\n",
    "    def tr3st(first_st,second_st,third_st):\n",
    "        if second_st+third_st>first_st:\n",
    "            if first_st+third_st>second_st:\n",
    "                if first_st+second_st>third_st:\n",
    "                    p=(first_st+second_st+third_st)/2\n",
    "                    s=math.sqrt((p*(p-first_st)*(p-second_st)*(p-third_st)))\n",
    "                    print (\"\\n Полупириметр треугольника\", p)\n",
    "                    print (\"\\n Площадь треугольника\", s)      \n",
    "                else:\n",
    "                    print (\"катет c не соответствует условию неравенства триугольника a+b>c \\n\")\n",
    "                    return\n",
    "            else:\n",
    "                print (\"катет b не соответствует условию неравенства триугольника a+c>b \\n\")\n",
    "                return\n",
    "        else:\n",
    "            print (\"катет a не соответствует условию неравенства триугольника b+c>a \\n\")\n",
    "            return\n",
    "    def tr2st(a,b, degrees):\n",
    "        a=float(a)\n",
    "        degrees=float(degrees)\n",
    "        b=float(b)\n",
    "        p=a+b+math.sqrt(a**2+b**2-2*a*b*math.cos(degrees/180*math.pi))\n",
    "        s=0.5*a*b*math.sin(degrees/180*math.pi)\n",
    "        print (\"\\n Пириметр треугольника\", p)\n",
    "        print (\"\\n Площадь треугольника\", s)  \n",
    "    def plosh_tr1st(degrees1,degrees2,l):\n",
    "        degrees1=float(degrees1)/180*math.pi\n",
    "        degrees2=float(degrees2)/180*math.pi\n",
    "        l=float(l)\n",
    "        s=(l**2*(math.sin(degrees1)*math.sin(degrees2/180*math.pi)))/(2*math.sin((degrees1+degrees2)/180*math.pi))\n",
    "        print (\"\\n Площадь треугольника\", s)     "
   ]
  },
  {
   "cell_type": "code",
   "execution_count": 4,
   "metadata": {},
   "outputs": [
    {
     "name": "stdout",
     "output_type": "stream",
     "text": [
      "\n",
      " Полупириметр треугольника 7.5\n",
      "\n",
      " Площадь треугольника 9.921567416492215\n"
     ]
    }
   ],
   "source": [
    "ploshad.tr3st(4,5,6)"
   ]
  },
  {
   "cell_type": "code",
   "execution_count": null,
   "metadata": {},
   "outputs": [],
   "source": [
    "print('Здравствуйте!')\n",
    "room_prices = [41, 94, 100, 7, 21, 92, 62, 49, 37, 17]\n",
    "i = -1\n",
    "while i < len(room_prices) - 1:\n",
    "i += 1\n",
    "price = room_prices[i]\n",
    "print('Проверяем ', price)\n",
    "if price == min(room_prices):\n",
    "print('Найдена минимальная цена')\n",
    "print('До свидания!')\n"
   ]
  }
 ],
 "metadata": {
  "kernelspec": {
   "display_name": "Python 3",
   "language": "python",
   "name": "python3"
  },
  "language_info": {
   "codemirror_mode": {
    "name": "ipython",
    "version": 3
   },
   "file_extension": ".py",
   "mimetype": "text/x-python",
   "name": "python",
   "nbconvert_exporter": "python",
   "pygments_lexer": "ipython3",
   "version": "3.11.6"
  },
  "orig_nbformat": 4
 },
 "nbformat": 4,
 "nbformat_minor": 2
}
